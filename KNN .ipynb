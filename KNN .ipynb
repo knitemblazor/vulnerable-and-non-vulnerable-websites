{
 "cells": [
  {
   "cell_type": "code",
   "execution_count": 1,
   "metadata": {},
   "outputs": [],
   "source": [
    "import csv\n",
    "import nltk\n",
    "import random\n",
    "from csv import reader\n",
    "from sys import exit\n",
    "from math import sqrt\n",
    "from operator import itemgetter\n",
    "import pandas as pd\n",
    "import glob\n",
    "from gensim.models import Word2Vec\n",
    "import gensim\n",
    "from sklearn.decomposition import PCA\n",
    "import numpy as np\n",
    "from gensim.models import Word2Vec"
   ]
  },
  {
   "cell_type": "code",
   "execution_count": 60,
   "metadata": {},
   "outputs": [],
   "source": [
    "class Script:\n",
    "    df1=pd.read_csv(\"data.csv\")\n",
    "    df1=df1.sample(frac=1)\n",
    "    tag=df1[\"Data\"]\n",
    "    tag=np.array(tag)\n",
    "    tags=[]\n",
    "    for i in range(len(tag)):\n",
    "        tags.append(tag[i])\n",
    "    Y=df1[\"Label\"]\n",
    "    def __init__(self, output):\n",
    "    self.output = output\n",
    "    \n",
    "    def Split():\n",
    "        d =[]\n",
    "        elim=['1','2','3','4','5','6','7','8','9','0',':',';','<','/',',','-','\\\\','#','\"']\n",
    "        for i in tags:\n",
    "            sent = \" \".join(\"\".join([\"\" if ch in elim else ch for ch in i]).split())\n",
    "            d.append(sent)\n",
    "        final=[]\n",
    "        for i in d:\n",
    "            k=i.split('>')\n",
    "            final.append(k)\n",
    "            print(final)\n",
    "        return(final)\n",
    "    \n",
    "    def vec(final):\n",
    "        model = gensim.models.Word2Vec(final,min_count =1,size=3,window=15)\n",
    "        model[model.wv.vocab]\n",
    "        return(model)\n",
    "        length=[]\n",
    "        for i in final:\n",
    "            length.append(len(i))\n",
    "        zerovector=[]\n",
    "        for i in range(3):\n",
    "            zerovector.append(0)\n",
    "            \n",
    "    def sentencevector(sent):\n",
    "        vector=[]\n",
    "        for word in sent:\n",
    "            vector.append(list(model[word]))\n",
    "            if(len(sent)<max(length)):\n",
    "                for i in range(len(sent),max(length)):\n",
    "                    vector.append(zerovector)\n",
    "        return(vector)\n",
    "    \n",
    "       \n",
    "    def KNN():\n",
    "        #t=Script\n",
    "        #t.split()\n",
    "        Xtotal=[]\n",
    "        for i in range(len(final)):\n",
    "            print(final)\n",
    "            a=list(sentencevector(final[i]))\n",
    "            Xtotal.append(a)\n",
    "        Xfinal=[]\n",
    "        for i in Xtotal:\n",
    "            Xfinal.append(sum(i,[]))\n",
    "        import sklearn\n",
    "        from sklearn.neighbors import KNeighborsClassifier\n",
    "        X_Train=Xfinal[:140]\n",
    "        Y_Train=Y[:140]\n",
    "        X_Test=Xfinal[140:]\n",
    "        Y_Test=Y[140:]\n",
    "        X=Xfinal\n",
    "        import sklearn\n",
    "        from sklearn.neighbors import KNeighborsClassifier\n",
    "        neigh = KNeighborsClassifier(n_neighbors=3)\n",
    "        neigh.fit(X_Train,Y_Train)\n",
    "        Y_Predicted=neigh.predict(X_Test)\n",
    "        Y_Predicted=list(Y_Predicted)\n",
    "        Y_Test=list(Y_Test)\n",
    "        counter=0\n",
    "        for i in range (len(Y_Predicted)):\n",
    "            if (Y_Predicted[i]==Y_Test[i]):\n",
    "                counter=counter+1\n",
    "                accuracy=counter/len(Y_Predicted)\n",
    "        #print(accuracy)\n",
    "            return(accuracy)\n",
    "    "
   ]
  },
  {
   "cell_type": "code",
   "execution_count": 62,
   "metadata": {},
   "outputs": [
    {
     "ename": "NameError",
     "evalue": "name 'KNN' is not defined",
     "output_type": "error",
     "traceback": [
      "\u001b[1;31m---------------------------------------------------------------------------\u001b[0m",
      "\u001b[1;31mNameError\u001b[0m                                 Traceback (most recent call last)",
      "\u001b[1;32m<ipython-input-62-c93c01e0ecd1>\u001b[0m in \u001b[0;36m<module>\u001b[1;34m\u001b[0m\n\u001b[1;32m----> 1\u001b[1;33m \u001b[0mKNN\u001b[0m\u001b[1;33m(\u001b[0m\u001b[1;33m)\u001b[0m\u001b[1;33m\u001b[0m\u001b[1;33m\u001b[0m\u001b[0m\n\u001b[0m",
      "\u001b[1;31mNameError\u001b[0m: name 'KNN' is not defined"
     ]
    }
   ],
   "source": [
    "KNN()"
   ]
  },
  {
   "cell_type": "code",
   "execution_count": null,
   "metadata": {},
   "outputs": [],
   "source": []
  }
 ],
 "metadata": {
  "kernelspec": {
   "display_name": "Python 3",
   "language": "python",
   "name": "python3"
  },
  "language_info": {
   "codemirror_mode": {
    "name": "ipython",
    "version": 3
   },
   "file_extension": ".py",
   "mimetype": "text/x-python",
   "name": "python",
   "nbconvert_exporter": "python",
   "pygments_lexer": "ipython3",
   "version": "3.7.1"
  }
 },
 "nbformat": 4,
 "nbformat_minor": 2
}
