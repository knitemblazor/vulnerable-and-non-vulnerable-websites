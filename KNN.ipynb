{
 "cells": [
  {
   "cell_type": "code",
   "execution_count": 1,
   "metadata": {},
   "outputs": [],
   "source": [
    "import csv\n",
    "import pandas as pd\n",
    "from gensim.models import Word2Vec\n",
    "import gensim\n",
    "from sklearn.decomposition import PCA\n",
    "import numpy as np"
   ]
  },
  {
   "cell_type": "code",
   "execution_count": 40,
   "metadata": {},
   "outputs": [],
   "source": [
    "df1=pd.read_csv(\"data.csv\")\n",
    "df1=df1.sample(frac=1)\n",
    "tag=df1[\"Data\"]\n",
    "tag=np.array(tag)\n",
    "tags=[]\n",
    "for i in range(len(tag)):\n",
    "    tags.append(tag[i])\n",
    "Y=df1[\"Label\"]\n",
    "Y=np.array(Y)\n",
    "Y=list(Y)"
   ]
  },
  {
   "cell_type": "code",
   "execution_count": 98,
   "metadata": {},
   "outputs": [
    {
     "name": "stdout",
     "output_type": "stream",
     "text": [
      "['', 'STYLE type=textcss', 'BODY{backgroundurl(javascriptdocument.cookie=true)}STYLE', '']\n"
     ]
    }
   ],
   "source": [
    "d =[]\n",
    "elim=['1','2','3','4','5','6','7','8','9','0',':',';','<','/',',','-','\\\\','#','\"']\n",
    "for i in tags:\n",
    "    sent = \" \".join(\"\".join([\"\" if ch in elim else ch for ch in i]).split())\n",
    "    d.append(sent)\n",
    "final=[]\n",
    "for i in d:\n",
    "    k=i.split('>')\n",
    "    final.append(k)\n",
    "print((final[1]))"
   ]
  },
  {
   "cell_type": "code",
   "execution_count": 90,
   "metadata": {},
   "outputs": [
    {
     "name": "stderr",
     "output_type": "stream",
     "text": [
      "/home/her/bhavya/lib/python3.6/site-packages/ipykernel_launcher.py:2: DeprecationWarning: Call to deprecated `__getitem__` (Method will be removed in 4.0.0, use self.wv.__getitem__() instead).\n",
      "  \n"
     ]
    },
    {
     "data": {
      "text/plain": [
       "12"
      ]
     },
     "execution_count": 90,
     "metadata": {},
     "output_type": "execute_result"
    }
   ],
   "source": [
    "model = gensim.models.Word2Vec(final,min_count =1,size=3)\n",
    "model[model.wv.vocab]\n",
    "length=[]\n",
    "for i in final:\n",
    "    length.append(len(i))"
   ]
  },
  {
   "cell_type": "code",
   "execution_count": 117,
   "metadata": {},
   "outputs": [
    {
     "name": "stderr",
     "output_type": "stream",
     "text": [
      "/home/her/bhavya/lib/python3.6/site-packages/ipykernel_launcher.py:8: DeprecationWarning: Call to deprecated `__getitem__` (Method will be removed in 4.0.0, use self.wv.__getitem__() instead).\n",
      "  \n"
     ]
    }
   ],
   "source": [
    "zerovector=[]\n",
    "for i in range(3):\n",
    "  zerovector.append(0)\n",
    "# print(label)\n",
    "def sentencevector(sent,length):\n",
    "  vector=[]\n",
    "  for word in sent:\n",
    "       vector.append(list(model[word]))\n",
    "  if(len(sent)<max(length)):\n",
    "    for i in range(len(sent),max(length)):\n",
    "      vector.append(zerovector)\n",
    "  return(vector)\n",
    "Xtotal=[]\n",
    "Ytotal=Y\n",
    "for i in range(len(final)):\n",
    "  a=(sentencevector(final[i],length))\n",
    "  Xtotal.append(a)"
   ]
  },
  {
   "cell_type": "code",
   "execution_count": 119,
   "metadata": {},
   "outputs": [
    {
     "data": {
      "text/plain": [
       "[[-0.11763515, 0.14821053, -0.027780948],\n",
       " [-0.0886701, 0.14920117, 0.11314271],\n",
       " [0.104578085, 0.074479245, 0.08459969],\n",
       " [-0.11763515, 0.14821053, -0.027780948],\n",
       " [0, 0, 0],\n",
       " [0, 0, 0],\n",
       " [0, 0, 0],\n",
       " [0, 0, 0],\n",
       " [0, 0, 0],\n",
       " [0, 0, 0],\n",
       " [0, 0, 0],\n",
       " [0, 0, 0]]"
      ]
     },
     "execution_count": 119,
     "metadata": {},
     "output_type": "execute_result"
    }
   ],
   "source": [
    "len(Xtotal[3])\n",
    "Xtotal[1]"
   ]
  },
  {
   "cell_type": "code",
   "execution_count": 120,
   "metadata": {},
   "outputs": [
    {
     "data": {
      "text/plain": [
       "36"
      ]
     },
     "execution_count": 120,
     "metadata": {},
     "output_type": "execute_result"
    }
   ],
   "source": [
    "Xfinal=[]\n",
    "for i in Xtotal:\n",
    "    Xfinal.append(sum(list(i),[]))\n",
    "len(Xfinal[0])"
   ]
  },
  {
   "cell_type": "code",
   "execution_count": 121,
   "metadata": {},
   "outputs": [],
   "source": [
    "X_Train=Xfinal[:140]\n",
    "Y_Train=Y[:140]\n",
    "X_Test=Xfinal[140:]\n",
    "Y_Test=Y[140:]"
   ]
  },
  {
   "cell_type": "code",
   "execution_count": 122,
   "metadata": {},
   "outputs": [
    {
     "data": {
      "text/plain": [
       "list"
      ]
     },
     "execution_count": 122,
     "metadata": {},
     "output_type": "execute_result"
    }
   ],
   "source": [
    "type(X_Test)"
   ]
  },
  {
   "cell_type": "code",
   "execution_count": 124,
   "metadata": {},
   "outputs": [
    {
     "name": "stdout",
     "output_type": "stream",
     "text": [
      "0.8387096774193549\n"
     ]
    }
   ],
   "source": [
    "neigh = KNeighborsClassifier(n_neighbors=3)\n",
    "neigh.fit(X_Train,Y_Train)\n",
    "Y_Predicted=neigh.predict(X_Test)\n",
    "Y_Predicted=list(Y_Predicted)\n",
    "Y_Test=list(Y_Test)\n",
    "counter=0\n",
    "for i in range (len(Y_Predicted)):\n",
    "    if (Y_Predicted[i]==Y_Test[i]):\n",
    "        counter=counter+1\n",
    "accuracy=counter/len(Y_Predicted)\n",
    "print(accuracy)"
   ]
  }
 ],
 "metadata": {
  "kernelspec": {
   "display_name": "Python 3",
   "language": "python",
   "name": "python3"
  },
  "language_info": {
   "codemirror_mode": {
    "name": "ipython",
    "version": 3
   },
   "file_extension": ".py",
   "mimetype": "text/x-python",
   "name": "python",
   "nbconvert_exporter": "python",
   "pygments_lexer": "ipython3",
   "version": "3.6.7"
  }
 },
 "nbformat": 4,
 "nbformat_minor": 2
}
